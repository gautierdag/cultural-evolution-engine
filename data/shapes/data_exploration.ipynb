{
 "cells": [
  {
   "cell_type": "code",
   "execution_count": 1,
   "metadata": {},
   "outputs": [],
   "source": [
    "import numpy as np\n",
    "import matplotlib.pyplot as plt\n",
    "import sys\n",
    "import pickle"
   ]
  },
  {
   "cell_type": "code",
   "execution_count": 2,
   "metadata": {},
   "outputs": [],
   "source": [
    "def display_image(img):\n",
    "    plt.clf()\n",
    "    img = np.transpose(img, (2, 0, 1))\n",
    "    b, g, r = img[0, ...], img[1, ...], img[2, ...]\n",
    "    rgb = np.asarray([r, g, b])\n",
    "    transp = np.transpose(rgb, (1, 2, 0))\n",
    "    plt.imshow(transp)\n",
    "    plt.show()"
   ]
  },
  {
   "cell_type": "code",
   "execution_count": 3,
   "metadata": {},
   "outputs": [
    {
     "name": "stdout",
     "output_type": "stream",
     "text": [
      "(8279, 30, 30, 3)\n"
     ]
    }
   ],
   "source": [
    "folder = 'balanced'\n",
    "npy_file = '{}/val.input.npy'.format(folder)\n",
    "val_imgs = np.load(npy_file)\n",
    "print(val_imgs.shape)"
   ]
  },
  {
   "cell_type": "code",
   "execution_count": 4,
   "metadata": {},
   "outputs": [
    {
     "data": {
      "image/png": "[encoded data removed]",
      "text/plain": [
       "<Figure size 432x288 with 1 Axes>"
      ]
     },
     "metadata": {
      "needs_background": "light"
     },
     "output_type": "display_data"
    },
    {
     "data": {
      "image/png": "[encoded data removed]",
      "text/plain": [
       "<Figure size 432x288 with 1 Axes>"
      ]
     },
     "metadata": {
      "needs_background": "light"
     },
     "output_type": "display_data"
    },
    {
     "data": {
      "image/png": "[encoded data removed]",
      "text/plain": [
       "<Figure size 432x288 with 1 Axes>"
      ]
     },
     "metadata": {
      "needs_background": "light"
     },
     "output_type": "display_data"
    },
    {
     "data": {
      "image/png": "[encoded data removed]",
      "text/plain": [
       "<Figure size 432x288 with 1 Axes>"
      ]
     },
     "metadata": {
      "needs_background": "light"
     },
     "output_type": "display_data"
    },
    {
     "data": {
      "image/png": "[encoded data removed]",
      "text/plain": [
       "<Figure size 432x288 with 1 Axes>"
      ]
     },
     "metadata": {
      "needs_background": "light"
     },
     "output_type": "display_data"
    }
   ],
   "source": [
    "for i in range(5):\n",
    "    display_image(val_imgs[i])"
   ]
  },
  {
   "cell_type": "code",
   "execution_count": 20,
   "metadata": {},
   "outputs": [
    {
     "data": {
      "text/plain": [
       "(123398, 30, 30, 3)"
      ]
     },
     "execution_count": 20,
     "metadata": {},
     "output_type": "execute_result"
    }
   ],
   "source": [
    "import glob\n",
    "image_sets = glob.glob('balanced/*.npy')\n",
    "all_images = np.concatenate([np.load(npy_file) for npy_file in image_sets])\n",
    "all_images = all_images/255\n",
    "all_images.shape"
   ]
  },
  {
   "cell_type": "code",
   "execution_count": 6,
   "metadata": {},
   "outputs": [
    {
     "data": {
      "text/plain": [
       "array([0.01214728, 0.01208014, 0.01196234])"
      ]
     },
     "execution_count": 6,
     "metadata": {},
     "output_type": "execute_result"
    }
   ],
   "source": [
    "all_images.reshape(-1, 3).mean(axis=0)"
   ]
  },
  {
   "cell_type": "code",
   "execution_count": 7,
   "metadata": {},
   "outputs": [
    {
     "data": {
      "text/plain": [
       "array([0.09611939, 0.09572092, 0.09523059])"
      ]
     },
     "execution_count": 7,
     "metadata": {},
     "output_type": "execute_result"
    }
   ],
   "source": [
    "all_images.reshape(-1, 3).std(axis=0)"
   ]
  },
  {
   "cell_type": "code",
   "execution_count": 21,
   "metadata": {},
   "outputs": [],
   "source": [
    "import torch\n",
    "import torchvision.models as models\n",
    "import torchvision.transforms\n",
    "from PIL import Image\n",
    "import torch.utils.data as data\n",
    "from torch.utils.data import DataLoader\n",
    "import os\n",
    "from tqdm import tqdm_notebook\n",
    "\n",
    "device = torch.device('cuda' if torch.cuda.is_available() else 'cpu')"
   ]
  },
  {
   "cell_type": "code",
   "execution_count": 22,
   "metadata": {},
   "outputs": [],
   "source": [
    "class ShapesDataset(data.Dataset):\n",
    "    def __init__(self, images):\n",
    "        super().__init__()\n",
    "        self.data = images\n",
    "        self.transforms = torchvision.transforms.Compose([\n",
    "            torchvision.transforms.ToTensor(),\n",
    "            # Normalize to (-1, 1)\n",
    "            torchvision.transforms.Normalize(\n",
    "                [0.5, 0.5, 0.5], [0.5, 0.5, 0.5]),\n",
    "            \n",
    "        ])\n",
    "    def __getitem__(self, index):\n",
    "        image = self.data[index, :, :, :]\n",
    "        image = self.transforms(image)\n",
    "        return image\n",
    "\n",
    "    def __len__(self):\n",
    "        return self.data.shape[0]"
   ]
  },
  {
   "cell_type": "code",
   "execution_count": 23,
   "metadata": {},
   "outputs": [],
   "source": [
    "def get_features(model, dataloader, file_id='train'):\n",
    "    features = []\n",
    "    for i, x in tqdm_notebook(enumerate(dataloader), total=len(dataloader)):\n",
    "        x = x.to(device)\n",
    "        y = model.features(x)\n",
    "        y = y.view(y.size(0), -1).detach().cpu().numpy()\n",
    "        features.append(y)\n",
    "    \n",
    "    # concatenate all features\n",
    "    features = np.concatenate(features, axis=0)\n",
    "    np.save('{}_features.npy'.format(file_id), features)"
   ]
  },
  {
   "cell_type": "code",
   "execution_count": 24,
   "metadata": {},
   "outputs": [
    {
     "data": {
      "application/vnd.jupyter.widget-view+json": {
       "model_id": "7cbda8b054314172b964494862fc5e6d",
       "version_major": 2,
       "version_minor": 0
      },
      "text/plain": [
       "HBox(children=(IntProgress(value=0, max=518), HTML(value='')))"
      ]
     },
     "metadata": {},
     "output_type": "display_data"
    },
    {
     "name": "stdout",
     "output_type": "stream",
     "text": [
      "\n"
     ]
    }
   ],
   "source": [
    "batch_size = 16\n",
    "\n",
    "folder = 'balanced'\n",
    "train_images = np.load('{}/train.large.input.npy'.format(folder))\n",
    "val_images = np.load('{}/val.input.npy'.format(folder))\n",
    "test_images = np.load('{}/test.input.npy'.format(folder))\n",
    "\n",
    "train_dataset = ShapesDataset(train_images)\n",
    "val_dataset = ShapesDataset(val_images)\n",
    "test_dataset = ShapesDataset(test_images)\n",
    "\n",
    "train_dataloader = DataLoader(train_dataset, batch_size=batch_size)\n",
    "val_dataloader = DataLoader(val_dataset, batch_size=batch_size)\n",
    "test_dataloader = DataLoader(test_dataset, batch_size=batch_size)\n",
    "\n",
    "vgg16 = models.vgg16(pretrained=True)\n",
    "vgg16.to(device)\n",
    "vgg16.eval()\n",
    "\n",
    "get_features(vgg16, train_dataloader, 'train')\n",
    "get_features(vgg16, val_dataloader, 'valid')\n",
    "get_features(vgg16, test_dataloader, 'test')"
   ]
  },
  {
   "cell_type": "code",
   "execution_count": 25,
   "metadata": {},
   "outputs": [],
   "source": [
    "train = np.load('train_features.npy')\n",
    "valid = np.load('valid_features.npy')\n",
    "test = np.load('test_features.npy')"
   ]
  },
  {
   "cell_type": "code",
   "execution_count": 17,
   "metadata": {},
   "outputs": [
    {
     "data": {
      "text/plain": [
       "(74504, 512)"
      ]
     },
     "execution_count": 17,
     "metadata": {},
     "output_type": "execute_result"
    }
   ],
   "source": [
    "train.shape"
   ]
  },
  {
   "cell_type": "code",
   "execution_count": 8,
   "metadata": {},
   "outputs": [],
   "source": [
    "test_images = np.load('{}/test.input.npy'.format(folder))"
   ]
  },
  {
   "cell_type": "code",
   "execution_count": 10,
   "metadata": {},
   "outputs": [
    {
     "data": {
      "text/plain": [
       "(40504, 30, 30, 3)"
      ]
     },
     "execution_count": 10,
     "metadata": {},
     "output_type": "execute_result"
    }
   ],
   "source": [
    "test_images.shape"
   ]
  },
  {
   "cell_type": "code",
   "execution_count": null,
   "metadata": {},
   "outputs": [],
   "source": []
  }
 ],
 "metadata": {
  "kernelspec": {
   "display_name": "Python 3",
   "language": "python",
   "name": "python3"
  },
  "language_info": {
   "codemirror_mode": {
    "name": "ipython",
    "version": 3
   },
   "file_extension": ".py",
   "mimetype": "text/x-python",
   "name": "python",
   "nbconvert_exporter": "python",
   "pygments_lexer": "ipython3",
   "version": "3.7.2"
  }
 },
 "nbformat": 4,
 "nbformat_minor": 2
}
