{
 "cells": [
  {
   "cell_type": "code",
   "execution_count": 5,
   "metadata": {},
   "outputs": [],
   "source": [
    "import numpy as np\n",
    "import pickle\n",
    "import pickle\n",
    "import random\n",
    "import numpy as np\n",
    "import scipy\n",
    "import scipy.spatial\n",
    "import os\n",
    "import torch\n",
    "\n",
    "from torch.utils.data import DataLoader, Subset\n",
    "\n",
    "from PIL import Image\n",
    "from tqdm import tqdm"
   ]
  },
  {
   "cell_type": "code",
   "execution_count": 6,
   "metadata": {},
   "outputs": [],
   "source": [
    "TRAIN_DATASET_SIZE = 20000\n",
    "VALID_DATASET_SIZE = 5000\n",
    "TEST_DATASET_SIZE = 5000"
   ]
  },
  {
   "cell_type": "code",
   "execution_count": 7,
   "metadata": {},
   "outputs": [],
   "source": [
    "from get_shapes_metadata import get_shapes_metadata"
   ]
  },
  {
   "cell_type": "code",
   "execution_count": 8,
   "metadata": {},
   "outputs": [
    {
     "name": "stdout",
     "output_type": "stream",
     "text": [
      "CPU times: user 1.21 s, sys: 71.4 ms, total: 1.28 s\n",
      "Wall time: 1.4 s\n"
     ]
    }
   ],
   "source": [
    "%%time\n",
    "train_meta = get_shapes_metadata(dataset=\"train\")"
   ]
  },
  {
   "cell_type": "code",
   "execution_count": 66,
   "metadata": {},
   "outputs": [
    {
     "name": "stdout",
     "output_type": "stream",
     "text": [
      "a\n",
      "a\n",
      "a\n",
      "a\n",
      "a\n",
      "a\n",
      "a\n",
      "a\n",
      "a\n",
      "a\n",
      "a\n",
      "a\n",
      "a\n",
      "a\n",
      "a\n",
      "a\n",
      "a\n",
      "a\n",
      "a\n",
      "a\n",
      "a\n",
      "a\n",
      "a\n",
      "a\n",
      "CPU times: user 20 s, sys: 730 ms, total: 20.7 s\n",
      "Wall time: 21.4 s\n"
     ]
    }
   ],
   "source": [
    "%%time\n",
    "dataset_length = 10000\n",
    "n_same = int(0.3 * dataset_length)\n",
    "n_1_edit = int(0.3 * dataset_length)\n",
    "n_random = dataset_length - n_same - n_1_edit\n",
    "\n",
    "pairs = []\n",
    "for i in range(n_same):\n",
    "    first_pic_index = np.random.choice(np.arange(train_meta.shape[0]))\n",
    "    first_pic = train_meta[first_pic_index]\n",
    "    same_pics = (np.count_nonzero(train_meta != first_pic, axis=1) == 0).nonzero()[0]\n",
    "    second_pic_index = np.random.choice(same_pics)\n",
    "    pairs.append([first_pic_index, second_pic_index, 1.0])\n",
    "\n",
    "for i in range(n_1_edit):\n",
    "    first_pic_index = np.random.choice(np.arange(train_meta.shape[0]))\n",
    "    first_pic = train_meta[first_pic_index]\n",
    "    same_pics = (np.count_nonzero(train_meta != first_pic, axis=1) == 2).nonzero()[0]\n",
    "    second_pic_index = np.random.choice(same_pics)\n",
    "    pairs.append([first_pic_index, second_pic_index, 0.0])\n",
    "\n",
    "for i in range(n_random):\n",
    "    first_pic_index, second_pic_index  = np.random.choice(np.arange(train_meta.shape[0]), 2, replace=False)\n",
    "    label = np.count_nonzero(train_meta[first_pic_index] != train_meta[second_pic_index]) == 0\n",
    "    pairs.append([first_pic_index, second_pic_index, label])\n",
    "\n",
    "pairs = np.array(pairs).astype(np.int)"
   ]
  },
  {
   "cell_type": "code",
   "execution_count": 71,
   "metadata": {},
   "outputs": [
    {
     "data": {
      "text/plain": [
       "1"
      ]
     },
     "execution_count": 71,
     "metadata": {},
     "output_type": "execute_result"
    }
   ],
   "source": []
  },
  {
   "cell_type": "code",
   "execution_count": null,
   "metadata": {},
   "outputs": [],
   "source": []
  }
 ],
 "metadata": {
  "kernelspec": {
   "display_name": "Python 3",
   "language": "python",
   "name": "python3"
  },
  "language_info": {
   "codemirror_mode": {
    "name": "ipython",
    "version": 3
   },
   "file_extension": ".py",
   "mimetype": "text/x-python",
   "name": "python",
   "nbconvert_exporter": "python",
   "pygments_lexer": "ipython3",
   "version": "3.7.2"
  }
 },
 "nbformat": 4,
 "nbformat_minor": 2
}
