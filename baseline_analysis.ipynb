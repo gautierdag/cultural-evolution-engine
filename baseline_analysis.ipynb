{
 "cells": [
  {
   "cell_type": "code",
   "execution_count": 1,
   "metadata": {},
   "outputs": [],
   "source": [
    "import numpy as np\n",
    "from statistics import mean\n",
    "import seaborn as sns\n",
    "import matplotlib.pyplot as plt\n",
    "from tqdm import tqdm_notebook\n",
    "import pandas as pd\n",
    "import glob\n",
    "import pickle\n",
    "import os\n",
    "\n",
    "RUNS_PATH = 'runs/'\n",
    "\n",
    "EVOLUTION_PATH = RUNS_PATH + 'evolution_cee_shapes_features_pop_size_16_cull_interval_5000_cull_rate_0.25_e64_h64_len5_voc5_evo_mode_best'\n",
    "CE_BEST_PATH = RUNS_PATH + 'cee_shapes_features_pop_size_16_cull_interval_5000_cull_rate_0.25_e64_h64_len5_voc5_cull_mode_best'"
   ]
  },
  {
   "cell_type": "code",
   "execution_count": 2,
   "metadata": {},
   "outputs": [],
   "source": [
    "#get best sender/receiver paths for cee (evo and ce) from EVOLUTION_PATH and CE_PATH\n",
    "\n",
    "def get_best_agent(population, att='acc', min_mode=False):\n",
    "    \"\"\"\n",
    "    Helper function that goes though a list of agents and returns the one with highest mean accuracy\n",
    "    \"\"\"\n",
    "    best_val = 0.0 if not min_mode else 100.0\n",
    "    best_a = 0\n",
    "    for i, agent in enumerate(population):\n",
    "        val = getattr(agent, att)\n",
    "        if type(val) is list:\n",
    "            val = mean(val)\n",
    "        if (best_val < val and not min_mode) or (best_val > val and min_mode):\n",
    "            best_a = i\n",
    "            best_val = val\n",
    "    return population[best_a]\n",
    "\n",
    "\n",
    "def get_best_agents(folder_path, single_pool=False, **kwargs):\n",
    "    # read cee.p files and go through agent attributes for one with highest val acc\n",
    "    cee_files = glob.glob(folder_path+'*/*/cee.p')\n",
    "    best_receivers = []\n",
    "    best_senders = []\n",
    "    for cee_file in cee_files:\n",
    "        cee = pickle.load(open(cee_file, 'rb'))\n",
    "        if single_pool:\n",
    "            best_agent = get_best_agent(cee.agents, **kwargs)\n",
    "            best_senders.append(best_agent)\n",
    "            best_receivers.append(best_agent)\n",
    "        else:\n",
    "            best_senders.append(get_best_agent(cee.senders, **kwargs))\n",
    "            best_receivers.append(get_best_agent(cee.receivers, **kwargs))\n",
    "    \n",
    "    best_sender = get_best_agent(best_senders)\n",
    "    best_receiver = get_best_agent(best_receivers)\n",
    "    \n",
    "    return (best_sender, best_receiver)\n",
    "\n",
    "evo_sender, evo_receiver = get_best_agents(EVOLUTION_PATH)\n",
    "ce_best_sender, ce_best_receiver = get_best_agents(CE_BEST_PATH)"
   ]
  },
  {
   "cell_type": "code",
   "execution_count": 3,
   "metadata": {},
   "outputs": [
    {
     "name": "stderr",
     "output_type": "stream",
     "text": [
      "WARNING:root:This caffe2 python run does not have GPU support. Will run in CPU only mode.\n"
     ]
    },
    {
     "name": "stdout",
     "output_type": "stream",
     "text": [
      "----------------------------------------\n",
      "Model name: shapes_features_e_64_h_64_lr_0.001_max_len_5_k_3_vocab_5_seed_42_btch_size_1024 \n",
      "|V|: 5\n",
      "L: 5\n",
      "ShapesSender(\n",
      "  (input_module): ShapesMetaVisualModule(\n",
      "    (process_input): Linear(in_features=512, out_features=64, bias=True)\n",
      "  )\n",
      "  (rnn): LSTMCell(64, 64)\n",
      "  (linear_out): Linear(in_features=64, out_features=5, bias=True)\n",
      ")\n",
      "ShapesReceiver(\n",
      "  (input_module): ShapesMetaVisualModule(\n",
      "    (process_input): Linear(in_features=64, out_features=512, bias=True)\n",
      "  )\n",
      "  (rnn): LSTMCell(64, 64)\n",
      ")\n",
      "Total number of parameters: 133637\n",
      "0/1000 Iterations: val loss: 3.272349089384079, val accuracy: 0.248046875\n",
      "500/1000 Iterations: val loss: 0.17158290185034275, val accuracy: 0.9373779296875\n",
      "1000/1000 Iterations: val loss: 0.08626966550946236, val accuracy: 0.966796875\n",
      "Test accuracy: 0.9669971955128205\n"
     ]
    }
   ],
   "source": [
    "#get 'best' baseline sender/receiver by pretraining\n",
    "from baseline import baseline\n",
    "\n",
    "# Run baseline model \n",
    "params = ['--iterations', '1000', '--log-interval', '500']\n",
    "model_name = baseline(params)\n",
    "baseline_sender_filename = model_name+'/sender.p'\n",
    "baseline_receiver_filename = model_name+'/receiver.p'"
   ]
  },
  {
   "cell_type": "markdown",
   "metadata": {},
   "source": [
    "### Baseline experiments (freezing either sender or receiver) \n",
    "Here we test the effect of the different sender or receiver models obtained from CE / Evolution / Baseline (2 agent setup) in transferring the knowledge to a newly initialized basline LSTM model. \n"
   ]
  },
  {
   "cell_type": "code",
   "execution_count": 4,
   "metadata": {},
   "outputs": [],
   "source": [
    "def get_metrics_from_folders(folder_paths):\n",
    "    \"\"\"\n",
    "    Helper function to get metrics from list of experiment folders, and return as whole\n",
    "    \"\"\"\n",
    "    results = {}\n",
    "    for i, f_path in enumerate(folder_paths):\n",
    "        results[i] = {}\n",
    "        saved_metrics = glob.glob(\"{}/metrics*.p\".format(f_path))\n",
    "        for m in saved_metrics:\n",
    "            iteration = int(m.split(\"_\")[-1].split(\".\")[0])\n",
    "            p=pickle.load(open(m, 'rb'))\n",
    "            results[i][iteration] = p\n",
    "    return results\n",
    "\n",
    "def plot_metric(results, metrics=[\"avg_convergence\"], ylabel=None, show_error=True, savefig=False, figname=None):\n",
    "    \n",
    "    ci = 'sd' if show_error else None\n",
    "    \n",
    "    a4_dims = (11.7, 8.27)\n",
    "    fig, ax = plt.subplots(figsize=a4_dims)\n",
    "    \n",
    "    run_names = []\n",
    "    metric_names = []\n",
    "    iterations = []\n",
    "    values = []\n",
    "    \n",
    "    for m in metrics:\n",
    "        for r in list(results.keys()):\n",
    "            for s in list(results[r].keys()):\n",
    "                for iteration_number in sorted(list(results[r][s].keys())):\n",
    "                    if iteration_number == 0:\n",
    "                        continue\n",
    "                    iterations.append(iteration_number)\n",
    "                    values.append(results[r][s][iteration_number][m])\n",
    "                    run_names.append(r)\n",
    "                    metric_names.append(m)\n",
    "            \n",
    "    values = np.array(values)\n",
    "    iterations = np.array(iterations)        \n",
    "    if len(metrics) < 2:     \n",
    "        d = {'Number of Iterations': iterations, m: values, 'run_name': run_names, 'metric_name': metric_names}\n",
    "        ax = sns.lineplot(ax=ax, x='Number of Iterations', y=m, data=pd.DataFrame(data=d), style='run_name', hue='run_name', ci=ci)\n",
    "        if ylabel is None:\n",
    "            ylabel = m\n",
    "    else:\n",
    "        d = {'Number of Iterations': iterations, 'val': values, 'run_name': run_names, 'metric_name': metric_names}\n",
    "        ax = sns.lineplot(ax=ax, x='Number of Iterations', y='val', data=pd.DataFrame(data=d), style=\"metric_name\", hue=\"run_name\", ci=ci)\n",
    "        if ylabel is None:\n",
    "            ylabel = \"val\"\n",
    "        \n",
    "    ax.set(xlabel='Number of Iterations', ylabel=ylabel)\n",
    "    if savefig:\n",
    "        if figname is None:\n",
    "            figname = ylabel\n",
    "        plt.savefig(RELATIVE_PATH+figname)\n",
    "        \n",
    "    plt.show()"
   ]
  },
  {
   "cell_type": "code",
   "execution_count": 12,
   "metadata": {},
   "outputs": [
    {
     "data": {
      "application/vnd.jupyter.widget-view+json": {
       "model_id": "55cca3c406ce4c38ba01da6d70bb21de",
       "version_major": 2,
       "version_minor": 0
      },
      "text/plain": [
       "HBox(children=(IntProgress(value=0, max=2), HTML(value='')))"
      ]
     },
     "metadata": {},
     "output_type": "display_data"
    }
   ],
   "source": [
    "# sample 10 different baseline (LSTM) receiver models\n",
    "\n",
    "def run_sender_experiments(sender_model=None, freeze=True, num_receivers=10, exp_name='baseline'):\n",
    "    seeds = list(range(num_receivers))\n",
    "    folders = []\n",
    "    for s in tqdm_notebook(seeds):\n",
    "        params =['--iterations', '5000', '--log-interval', '50',\n",
    "                 '--disable-print','--name', '{}_{}'.format(exp_name, s),\n",
    "                 '--folder', 'sender_experiments', '--seed', str(s)]\n",
    "\n",
    "        if sender_model is not None:\n",
    "            params += ['--sender-path', sender_model]\n",
    "        if freeze:\n",
    "            params += ['--freeze-sender']\n",
    "            \n",
    "        folder = baseline(params)\n",
    "        folders.append(folder)\n",
    "    return get_metrics_from_folders(folders)\n",
    "\n",
    "# train with frozen baseline_sender, best_evo_sender, best_ce_sender, and from scratch\n",
    "\n",
    "# run_sender_experiments()\n",
    "results = {}\n",
    "results['baseline'] = run_sender_experiments(freeze=False)\n",
    "results['baseline_pretrained'] = run_sender_experiments(sender_model=baseline_sender_filename, exp_name='baseline_pretrained')\n",
    "results['evolution'] = run_sender_experiments(sender_model=evo_sender.filename, exp_name=\"evolution\")\n",
    "results['ce_best'] = run_sender_experiments(sender_model=ce_best_sender.filename, exp_name=\"ce_best\")"
   ]
  },
  {
   "cell_type": "code",
   "execution_count": 24,
   "metadata": {},
   "outputs": [
    {
     "data": {
      "image/png": "[encoded data removed]",
      "text/plain": [
       "<Figure size 842.4x595.44 with 1 Axes>"
      ]
     },
     "metadata": {
      "needs_background": "light"
     },
     "output_type": "display_data"
    }
   ],
   "source": [
    "plot_metric(results, metrics=['acc'], show_error=True)"
   ]
  },
  {
   "cell_type": "markdown",
   "metadata": {},
   "source": [
    "### sample 10 different baseline (LSTM) sender models:\n",
    "\n",
    "train with frozen baseline_receiver, best_evo_receiver, best_ce_receiver, and from scratch\n",
    "\n",
    "get_all_folder_names (plot results)\n"
   ]
  },
  {
   "cell_type": "code",
   "execution_count": null,
   "metadata": {},
   "outputs": [],
   "source": []
  }
 ],
 "metadata": {
  "kernelspec": {
   "display_name": "Python 3",
   "language": "python",
   "name": "python3"
  },
  "language_info": {
   "codemirror_mode": {
    "name": "ipython",
    "version": 3
   },
   "file_extension": ".py",
   "mimetype": "text/x-python",
   "name": "python",
   "nbconvert_exporter": "python",
   "pygments_lexer": "ipython3",
   "version": "3.7.2"
  }
 },
 "nbformat": 4,
 "nbformat_minor": 2
}
